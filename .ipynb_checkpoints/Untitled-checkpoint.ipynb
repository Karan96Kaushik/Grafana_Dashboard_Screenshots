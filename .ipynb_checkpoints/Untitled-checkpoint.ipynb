{
 "cells": [
  {
   "cell_type": "code",
   "execution_count": 1,
   "metadata": {},
   "outputs": [],
   "source": [
    "import psycopg2\n",
    "import sys, os\n",
    "import numpy as np\n",
    "import pandas as pd\n",
    "import pandas.io.sql as psql"
   ]
  },
  {
   "cell_type": "code",
   "execution_count": 2,
   "metadata": {},
   "outputs": [],
   "source": [
    "PGHOST=\"bms.irasus.com\"\n",
    "PGDATABASE=\"battery_intelligence_system\"\n",
    "PGUSER=\"postgres\"\n",
    "PGPASSWORD=\"0Bama-mama\""
   ]
  },
  {
   "cell_type": "code",
   "execution_count": null,
   "metadata": {},
   "outputs": [],
   "source": [
    "conn_string = \"host=\"+ PGHOST +\" port=\"+ \"5432\" +\" dbname=\"+ PGDATABASE +\" user=\" + PGUSER +\" password=\"+ PGPASSWORD\n",
    "\n",
    "conn=psycopg2.connect(conn_string)\n",
    "\n",
    "print(\"Connected!\")\n",
    "\n",
    "# Create a cursor object\n",
    "cursor = conn.cursor()\n",
    "\n",
    "\n",
    "def load_data(schema, table, _to, _from):\n",
    "\n",
    "    sql_command = \"SELECT * FROM {}.{} WHERE \\\"timestamp\\\" BETWEEN to_timestamp({}) AND to_timestamp({});\".format(str(schema), str(table), str(_to), str(_from))\n",
    "    print (sql_command)\n",
    "\n",
    "    # Load the data\n",
    "    data = pd.read_sql(sql_command, conn)\n",
    "\n",
    "    print(data.shape)\n",
    "    return (data)"
   ]
  },
  {
   "cell_type": "code",
   "execution_count": null,
   "metadata": {},
   "outputs": [],
   "source": [
    "#from=1577765804375&to=1577777859015\n",
    "\n",
    "_from = 1577704479982/1000\n",
    "_to = 1577796131196/1000\n",
    "\n",
    "load_data(\"public\",\"basic_measurements_packs\", _from, _to)"
   ]
  },
  {
   "cell_type": "code",
   "execution_count": null,
   "metadata": {},
   "outputs": [],
   "source": []
  }
 ],
 "metadata": {
  "kernelspec": {
   "display_name": "Python 3",
   "language": "python",
   "name": "python3"
  },
  "language_info": {
   "codemirror_mode": {
    "name": "ipython",
    "version": 3
   },
   "file_extension": ".py",
   "mimetype": "text/x-python",
   "name": "python",
   "nbconvert_exporter": "python",
   "pygments_lexer": "ipython3",
   "version": "3.6.9"
  }
 },
 "nbformat": 4,
 "nbformat_minor": 2
}
