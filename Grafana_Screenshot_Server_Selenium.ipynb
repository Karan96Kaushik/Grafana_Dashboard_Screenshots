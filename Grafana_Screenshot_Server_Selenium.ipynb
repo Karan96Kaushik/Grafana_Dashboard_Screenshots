{
 "cells": [
  {
   "cell_type": "code",
   "execution_count": null,
   "metadata": {},
   "outputs": [],
   "source": [
    "from selenium import webdriver\n",
    "from selenium.webdriver.firefox.options import Options\n",
    "from selenium.webdriver.common.keys import Keys\n",
    "from IPython.core.display import display, HTML\n",
    "from time import sleep"
   ]
  },
  {
   "cell_type": "code",
   "execution_count": null,
   "metadata": {},
   "outputs": [],
   "source": [
    "options = Options()\n",
    "options.headless = True\n",
    "options.add_argument(\"window-size=400,600\")\n",
    "\n",
    "driver = webdriver.Firefox(options=options) #"
   ]
  },
  {
   "cell_type": "code",
   "execution_count": null,
   "metadata": {},
   "outputs": [],
   "source": [
    "_url = \"http://192.168.0.197:3000/d/o8OgaALWk/battery-pack-and-cell-measurements?orgId=2&from=1582077620252&to=1582080470139\"\n",
    "\n",
    "driver.get(_url)\n",
    "print(driver.title)\n",
    "\n",
    "try:\n",
    "    if(True):\n",
    "        elem = driver.find_element_by_name(\"user\")\n",
    "        elem.clear()\n",
    "        elem.send_keys(\"admin\")\n",
    "\n",
    "        elem = driver.find_element_by_name(\"password\")\n",
    "        elem.clear()\n",
    "        elem.send_keys(\"nimda\")\n",
    "\n",
    "        elem.send_keys(Keys.RETURN)\n",
    "except:\n",
    "    print(\"error\")\n",
    "    "
   ]
  },
  {
   "cell_type": "code",
   "execution_count": null,
   "metadata": {},
   "outputs": [],
   "source": [
    "driver.set_window_size(1920, 7000)\n",
    "\n",
    "cl_el = \"react-grid-layout\"\n",
    "\n",
    "a = driver.find_elements_by_class_name(\"react-grid-layout\")\n",
    "\n",
    "layout_height = int( a[0].get_attribute('style').split('height: ')[1].split('px')[0] )\n",
    "\n",
    "sleep(3)\n",
    "\n",
    "ht = layout_height\n",
    "print(ht)\n",
    "\n",
    "driver.set_window_size(1920, ht + 250) # width, Height.\n",
    "\n",
    "sleep(1)\n",
    "\n",
    "driver.save_screenshot(\"screenshot1.png\")\n",
    "print(\"done\")"
   ]
  },
  {
   "cell_type": "code",
   "execution_count": null,
   "metadata": {},
   "outputs": [],
   "source": []
  },
  {
   "cell_type": "code",
   "execution_count": null,
   "metadata": {},
   "outputs": [],
   "source": []
  }
 ],
 "metadata": {
  "kernelspec": {
   "display_name": "Python 3",
   "language": "python",
   "name": "python3"
  },
  "language_info": {
   "codemirror_mode": {
    "name": "ipython",
    "version": 3
   },
   "file_extension": ".py",
   "mimetype": "text/x-python",
   "name": "python",
   "nbconvert_exporter": "python",
   "pygments_lexer": "ipython3",
   "version": "3.6.9"
  }
 },
 "nbformat": 4,
 "nbformat_minor": 2
}
