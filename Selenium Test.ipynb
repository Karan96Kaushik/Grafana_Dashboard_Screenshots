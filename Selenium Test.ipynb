{
 "cells": [
  {
   "cell_type": "code",
   "execution_count": 1,
   "metadata": {},
   "outputs": [],
   "source": [
    "from selenium import webdriver\n",
    "from selenium.webdriver.firefox.options import Options\n",
    "from selenium.webdriver.common.keys import Keys\n",
    "from IPython.core.display import display, HTML\n",
    "from time import sleep"
   ]
  },
  {
   "cell_type": "code",
   "execution_count": 2,
   "metadata": {},
   "outputs": [],
   "source": [
    "options = Options()\n",
    "options.headless = True\n",
    "options.add_argument(\"window-size=400,600\")\n",
    "\n",
    "driver = webdriver.Firefox(options=options) #"
   ]
  },
  {
   "cell_type": "code",
   "execution_count": 21,
   "metadata": {},
   "outputs": [
    {
     "name": "stdout",
     "output_type": "stream",
     "text": [
      "Grafana\n",
      "error\n"
     ]
    }
   ],
   "source": [
    "_url = \"http://192.168.0.197:3000/d/o8OgaALWk/battery-pack-and-cell-measurements?orgId=2&from=1582077620252&to=1582080470139\"\n",
    "\n",
    "driver.get(_url)\n",
    "print(driver.title)\n",
    "\n",
    "try:\n",
    "    if(True):\n",
    "        elem = driver.find_element_by_name(\"user\")\n",
    "        elem.clear()\n",
    "        elem.send_keys(\"admin\")\n",
    "\n",
    "        elem = driver.find_element_by_name(\"password\")\n",
    "        elem.clear()\n",
    "        elem.send_keys(\"nimda\")\n",
    "\n",
    "        elem.send_keys(Keys.RETURN)\n",
    "except:\n",
    "    print(\"error\")\n",
    "    "
   ]
  },
  {
   "cell_type": "code",
   "execution_count": 22,
   "metadata": {},
   "outputs": [
    {
     "name": "stdout",
     "output_type": "stream",
     "text": [
      "3070\n",
      "done\n"
     ]
    }
   ],
   "source": [
    "driver.set_window_size(1920, 7000)\n",
    "\n",
    "cl_el = \"react-grid-layout\"\n",
    "\n",
    "a = driver.find_elements_by_class_name(\"react-grid-layout\")\n",
    "\n",
    "layout_height = int( a[0].get_attribute('style').split('height: ')[1].split('px')[0] )\n",
    "\n",
    "sleep(3)\n",
    "\n",
    "ht = layout_height\n",
    "print(ht)\n",
    "\n",
    "driver.set_window_size(1920, ht + 250) # width, Height.\n",
    "\n",
    "sleep(1)\n",
    "\n",
    "driver.save_screenshot(\"screenshot1.png\")\n",
    "print(\"done\")"
   ]
  },
  {
   "cell_type": "code",
   "execution_count": 23,
   "metadata": {},
   "outputs": [
    {
     "data": {
      "text/plain": [
       "True"
      ]
     },
     "execution_count": 23,
     "metadata": {},
     "output_type": "execute_result"
    }
   ],
   "source": [
    "driver.save_screenshot(\"screenshot11.png\")"
   ]
  },
  {
   "cell_type": "code",
   "execution_count": null,
   "metadata": {},
   "outputs": [],
   "source": []
  },
  {
   "cell_type": "code",
   "execution_count": null,
   "metadata": {},
   "outputs": [],
   "source": []
  },
  {
   "cell_type": "code",
   "execution_count": null,
   "metadata": {},
   "outputs": [],
   "source": [
    "driver.get(\"http://web.whatsapp.com\")\n",
    "\n"
   ]
  },
  {
   "cell_type": "code",
   "execution_count": 9,
   "metadata": {},
   "outputs": [
    {
     "ename": "AttributeError",
     "evalue": "'FirefoxWebElement' object has no attribute 'GetAttribute'",
     "output_type": "error",
     "traceback": [
      "\u001b[0;31m---------------------------------------------------------------------------\u001b[0m",
      "\u001b[0;31mAttributeError\u001b[0m                            Traceback (most recent call last)",
      "\u001b[0;32m<ipython-input-9-68cd4bd3e9dc>\u001b[0m in \u001b[0;36m<module>\u001b[0;34m()\u001b[0m\n\u001b[1;32m      1\u001b[0m \u001b[0mall_options\u001b[0m \u001b[0;34m=\u001b[0m \u001b[0mdriver\u001b[0m\u001b[0;34m.\u001b[0m\u001b[0mfind_elements_by_tag_name\u001b[0m\u001b[0;34m(\u001b[0m\u001b[0;34m\"img\"\u001b[0m\u001b[0;34m)\u001b[0m\u001b[0;34m\u001b[0m\u001b[0;34m\u001b[0m\u001b[0m\n\u001b[0;32m----> 2\u001b[0;31m \u001b[0mprint\u001b[0m\u001b[0;34m(\u001b[0m\u001b[0mall_options\u001b[0m\u001b[0;34m[\u001b[0m\u001b[0;36m0\u001b[0m\u001b[0;34m]\u001b[0m\u001b[0;34m.\u001b[0m\u001b[0mGetAttribute\u001b[0m\u001b[0;34m(\u001b[0m\u001b[0msrc\u001b[0m\u001b[0;34m)\u001b[0m\u001b[0;34m)\u001b[0m\u001b[0;34m\u001b[0m\u001b[0;34m\u001b[0m\u001b[0m\n\u001b[0m",
      "\u001b[0;31mAttributeError\u001b[0m: 'FirefoxWebElement' object has no attribute 'GetAttribute'"
     ]
    }
   ],
   "source": [
    "all_options = driver.find_elements_by_tag_name(\"img\")\n",
    "print(all_options[0].GetAttribute(src))\n"
   ]
  },
  {
   "cell_type": "code",
   "execution_count": 7,
   "metadata": {},
   "outputs": [],
   "source": [
    "def _html_(_src):\n",
    "    _html = '<img src=\"' + _src + '\">'\n",
    "    display(HTML(_html))"
   ]
  },
  {
   "cell_type": "code",
   "execution_count": 15,
   "metadata": {},
   "outputs": [
    {
     "data": {
      "text/plain": [
       "True"
      ]
     },
     "execution_count": 15,
     "metadata": {},
     "output_type": "execute_result"
    }
   ],
   "source": [
    "items = driver.find_elements_by_tag_name(\"canvas\")\n",
    "#print(items.size)\n",
    "\n",
    "_src = items[0].get_attribute('src')\n",
    "\n",
    "driver.save_screenshot(\"screenshot.png\")\n",
    "\n",
    "#print(items)\n",
    "\n",
    "#for item in items:\n",
    " #   _html_(item.get_attribute('src'))\n"
   ]
  },
  {
   "cell_type": "code",
   "execution_count": null,
   "metadata": {},
   "outputs": [],
   "source": [
    "_html = '<img src=\"' + _src + '\">'\n",
    "display(HTML(_html))"
   ]
  },
  {
   "cell_type": "code",
   "execution_count": 4,
   "metadata": {},
   "outputs": [
    {
     "name": "stdout",
     "output_type": "stream",
     "text": [
      " * Serving Flask app \"__main__\" (lazy loading)\n",
      " * Environment: production\n",
      "   WARNING: This is a development server. Do not use it in a production deployment.\n",
      "   Use a production WSGI server instead.\n",
      " * Debug mode: off\n"
     ]
    },
    {
     "name": "stderr",
     "output_type": "stream",
     "text": [
      " * Running on http://0.0.0.0:5000/ (Press CTRL+C to quit)\n",
      "192.168.0.193 - - [29/Jan/2020 17:00:21] \"GET / HTTP/1.1\" 200 -\n"
     ]
    }
   ],
   "source": [
    "from flask import Flask\n",
    "app = Flask(__name__)\n",
    "\n",
    "@app.route(\"/\")\n",
    "def hello():\n",
    "    try:\n",
    "        driver.get(\"http://web.whatsapp.com\")\n",
    "        return render_template('screenshot.png')\n",
    "    except Exception as e:\n",
    "        return str(e)\n",
    "    #return \"Hello World!\"\n",
    "\n",
    "if __name__ == \"__main__\":\n",
    "    app.run(host='0.0.0.0', port=5000)"
   ]
  },
  {
   "cell_type": "code",
   "execution_count": null,
   "metadata": {},
   "outputs": [],
   "source": []
  }
 ],
 "metadata": {
  "kernelspec": {
   "display_name": "Python 3",
   "language": "python",
   "name": "python3"
  },
  "language_info": {
   "codemirror_mode": {
    "name": "ipython",
    "version": 3
   },
   "file_extension": ".py",
   "mimetype": "text/x-python",
   "name": "python",
   "nbconvert_exporter": "python",
   "pygments_lexer": "ipython3",
   "version": "3.6.9"
  }
 },
 "nbformat": 4,
 "nbformat_minor": 2
}
